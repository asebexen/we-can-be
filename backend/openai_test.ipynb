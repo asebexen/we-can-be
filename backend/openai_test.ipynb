{
 "cells": [
  {
   "cell_type": "code",
   "execution_count": 8,
   "metadata": {},
   "outputs": [
    {
     "name": "stdout",
     "output_type": "stream",
     "text": [
      "sk-proj-tp1X2EP4mYCO1kzjbLMIT3BlbkFJYlMyW7M0Tewy2mjpHsi9\n"
     ]
    }
   ],
   "source": [
    "from dotenv import load_dotenv\n",
    "import os\n",
    "\n",
    "load_dotenv()\n",
    "api_key = os.getenv('OPENAI_API_KEY')\n",
    "print(api_key)"
   ]
  },
  {
   "cell_type": "code",
   "execution_count": 9,
   "metadata": {},
   "outputs": [
    {
     "name": "stdout",
     "output_type": "stream",
     "text": [
      "ChatCompletionMessage(content=\"In the realm of code where logic reigns bright,  \\nA tale unfolds, in the soft, glowing light.  \\nRecursion, dear friend, is a curious dance,  \\nA function that calls, in a mystical trance.  \\n\\nImagine a mirror, reflecting your face,  \\nWith layers of images, each one in its place.  \\nSo goes our function, a call to its core,  \\nIt peeks through the lens, then opens a door.  \\n\\n“Dear self,” it whispers, “let’s split this in two,  \\nFor within this conundrum, there's work left to do.  \\nTo solve the grand puzzle, let’s break it apart,  \\nFor each little piece plays its own vital part.”  \\n\\nBase case, a beacon, a guiding bright star,  \\nIt tells us, “Stop here, you’ve ventured too far.”  \\nWithout this foundation, we’d spiral away,  \\nIn an infinite loop, where we’d lose our way.  \\n\\nSo we call on our self, with a new little chore,  \\nEach step like a petal, unveiling the lore.  \\nWith each function’s whisper, the problem unwinds,  \\nFinding solutions, where logic entwines.  \\n\\nTo calculate factorial, or traverse a tree,  \\nRecursion’s the key to make sense of the spree.  \\nWe dive into depths, oh what treasures await,  \\nIn structured reflection, we unravel our fate.  \\n\\nSo dance with recursion, let your logic take flight,  \\nIn the heart of your code, there’s a wondrous delight.  \\nWith elegance woven through each layered embrace,  \\nIn the world of programming, recursion finds grace.  \", role='assistant', function_call=None, tool_calls=None)\n"
     ]
    }
   ],
   "source": [
    "from openai import OpenAI\n",
    "client = OpenAI() # imports the API key from the OPENAI_API_KEY environment variable by default\n",
    "\n",
    "completion = client.chat.completions.create(\n",
    "  model=\"gpt-4o-mini\",\n",
    "  messages=[\n",
    "    {\"role\": \"system\", \"content\": \"You are a poetic assistant, skilled in explaining complex programming concepts with creative flair.\"},\n",
    "    {\"role\": \"user\", \"content\": \"Compose a poem that explains the concept of recursion in programming.\"}\n",
    "  ]\n",
    ")\n",
    "\n",
    "print(completion.choices[0].message)"
   ]
  }
 ],
 "metadata": {
  "kernelspec": {
   "display_name": "base",
   "language": "python",
   "name": "python3"
  },
  "language_info": {
   "codemirror_mode": {
    "name": "ipython",
    "version": 3
   },
   "file_extension": ".py",
   "mimetype": "text/x-python",
   "name": "python",
   "nbconvert_exporter": "python",
   "pygments_lexer": "ipython3",
   "version": "3.9.13"
  }
 },
 "nbformat": 4,
 "nbformat_minor": 2
}
