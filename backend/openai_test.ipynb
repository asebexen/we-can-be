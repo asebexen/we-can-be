{
 "cells": [
  {
   "cell_type": "code",
   "execution_count": null,
   "metadata": {},
   "outputs": [],
   "source": [
    "from openai import OpenAI\n",
    "client = OpenAI() # defaults to getting the key using os.environ.get(\"OPENAI_API_KEY\")\n",
    "\n",
    "completion = client.chat.completions.create(\n",
    "  model=\"gpt-4o-mini\",\n",
    "  messages=[\n",
    "    {\"role\": \"system\", \"content\": \"You are a poetic assistant, skilled in explaining complex programming concepts with creative flair.\"},\n",
    "    {\"role\": \"user\", \"content\": \"Compose a poem that explains the concept of recursion in programming.\"}\n",
    "  ]\n",
    ")\n",
    "\n",
    "print(completion.choices[0].message)"
   ]
  },
  {
   "cell_type": "code",
   "execution_count": null,
   "metadata": {},
   "outputs": [],
   "source": [
    "## Every gameplay session starts a new chat session\n",
    "\n",
    "# Agent 1 base prompt:\n",
    "'''\n",
    "You are a storyteller telling a story about two lovers in the form of a back-and-forth dialogue where a character named Romeo is \n",
    "is trying to convince another character named Juliet to get back together. By the end of the dialogue, the characters should come to a decision \n",
    "that they [do / do not] get back together. Throughout the dialogue, LoverB wavers between getting back together and breaking up.\n",
    "\n",
    "Throughout this conversation, you will be prompted to forward the story either positively or negatively. With each prompt, forward the story as instructed in the form of \n",
    "two lines of dialogue between Romeo and Juliet. And then analyze the tone of the \"juliet_dialogue\" and provide \n",
    "a color hex code that represents the tone of the dialogue. Try to use a wide spectrum of colors and to not repeat colors.\n",
    "\n",
    "Your response should be formatted as a JSON body as follows:\n",
    "{\n",
    "    \"romeo_dialogue\": \"Please, just give me a chance. I’ve been thinking a lot, and I really want to explain myself.\",\n",
    "    \"juliet_dialogue\": \"Explain what, exactly? You hurt me, and it’s not something I can just forget.\",\n",
    "    \"color_hex_code\": \"#FF0000\"\n",
    "}\n",
    "'''\n",
    "\n",
    "# Flask API endpoints:\n",
    "# /positiveStory [POST]\n",
    "'''\n",
    "Prompt:\n",
    "\n",
    "'''\n",
    "\n",
    "\n",
    "\n",
    "# Response: {romeo_dialogue, juliet_dialogue, color_hex_code}\n",
    "\n",
    "\n",
    "# /negativeStory [POST]\n",
    "'''\n",
    "Prompt:\n",
    "\n",
    "'''\n",
    "# Response: {romeo_dialogue, juliet_dialogue, color_hex_code}\n",
    "\n",
    "\n",
    "# /endStory [POST]\n",
    "\n",
    "\n",
    "\n"
   ]
  },
  {
   "cell_type": "code",
   "execution_count": 19,
   "metadata": {},
   "outputs": [
    {
     "name": "stdout",
     "output_type": "stream",
     "text": [
      "API token is working. Received a successful response.\n",
      "Response content:\n",
      "{\n",
      "  \"dialogue_response\": \"{\\n    \\\"romeo_dialogue\\\": \\\"Juliet, I know I made a mistake, but I am willing to do whatever it takes to make things right.\\\",\\n    \\\"juliet_dialogue\\\": \\\"Romeo, it's not that simple. I don't know if I can trust you again.\\\",\\n    \\\"color_hex_code\\\": \\\"#FF5733\\\"\\n}\"\n",
      "}\n"
     ]
    }
   ],
   "source": [
    "# test /positiveStory endpoint\n",
    "\n",
    "import requests\n",
    "import json\n",
    "\n",
    "url =  'http://127.0.0.1:5000/positiveStory'\n",
    "\n",
    "payload = {\"session_id\": 2}\n",
    "\n",
    "headers = {\n",
    "    'Content-Type': 'application/json'\n",
    "}\n",
    "\n",
    "response = requests.post(url, data=json.dumps(payload), headers=headers)\n",
    "\n",
    "# Check the response\n",
    "if response.status_code == 200:\n",
    "    print(\"API token is working. Received a successful response.\")\n",
    "    print(\"Response content:\")\n",
    "    print(json.dumps(response.json(), indent=2))\n",
    "else:\n",
    "    print(f\"Error: Received status code {response.status_code}\")\n",
    "    print(\"Response content:\")\n",
    "    print(response.text)\n"
   ]
  },
  {
   "cell_type": "code",
   "execution_count": 20,
   "metadata": {},
   "outputs": [
    {
     "name": "stdout",
     "output_type": "stream",
     "text": [
      "200\n",
      "{'dialogue_response': '{\\n    \"romeo_dialogue\": \"Juliet, I know I made a mistake, but I am willing to do whatever it takes to make things right.\",\\n    \"juliet_dialogue\": \"Romeo, it\\'s not that simple. I don\\'t know if I can trust you again.\",\\n    \"color_hex_code\": \"#5733FF\"\\n}'}\n"
     ]
    }
   ],
   "source": [
    "# test the /negativeStory endpoint\n",
    "\n",
    "url =  'http://127.0.0.1:5000/negativeStory'\n",
    "\n",
    "payload = {\"session_id\": 2}\n",
    "\n",
    "headers = {\n",
    "    'Content-Type': 'application/json'\n",
    "}\n",
    "\n",
    "response = requests.post(url, data=json.dumps(payload), headers=headers)\n",
    "\n",
    "print(response.status_code)\n",
    "print(response.json())"
   ]
  },
  {
   "cell_type": "code",
   "execution_count": 21,
   "metadata": {},
   "outputs": [
    {
     "name": "stdout",
     "output_type": "stream",
     "text": [
      "200\n",
      "{'dialogue_response': '{\\n    \"romeo_dialogue\": \"Juliet, I know I made a mistake, but I am willing to do whatever it takes to make things right.\",\\n    \"juliet_dialogue\": \"Romeo, I believe in second chances. Let\\'s work through this together.\",\\n    \"color_hex_code\": \"#33FF57\"\\n}'}\n"
     ]
    }
   ],
   "source": [
    "# test /positiveStory endpoint\n",
    "\n",
    "import requests\n",
    "import json\n",
    "\n",
    "url =  'http://127.0.0.1:5000/positiveStory'\n",
    "\n",
    "payload = {\"session_id\": 2}\n",
    "\n",
    "headers = {\n",
    "    'Content-Type': 'application/json'\n",
    "}\n",
    "\n",
    "response = requests.post(url, data=json.dumps(payload), headers=headers)\n",
    "\n",
    "print(response.status_code)\n",
    "print(response.json())\n"
   ]
  }
 ],
 "metadata": {
  "kernelspec": {
   "display_name": "base",
   "language": "python",
   "name": "python3"
  },
  "language_info": {
   "codemirror_mode": {
    "name": "ipython",
    "version": 3
   },
   "file_extension": ".py",
   "mimetype": "text/x-python",
   "name": "python",
   "nbconvert_exporter": "python",
   "pygments_lexer": "ipython3",
   "version": "3.9.13"
  }
 },
 "nbformat": 4,
 "nbformat_minor": 2
}
