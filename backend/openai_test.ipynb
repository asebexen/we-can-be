{
 "cells": [
  {
   "cell_type": "code",
   "execution_count": 9,
   "metadata": {},
   "outputs": [
    {
     "name": "stdout",
     "output_type": "stream",
     "text": [
      "ChatCompletionMessage(content=\"In the realm of code where logic reigns bright,  \\nA tale unfolds, in the soft, glowing light.  \\nRecursion, dear friend, is a curious dance,  \\nA function that calls, in a mystical trance.  \\n\\nImagine a mirror, reflecting your face,  \\nWith layers of images, each one in its place.  \\nSo goes our function, a call to its core,  \\nIt peeks through the lens, then opens a door.  \\n\\n“Dear self,” it whispers, “let’s split this in two,  \\nFor within this conundrum, there's work left to do.  \\nTo solve the grand puzzle, let’s break it apart,  \\nFor each little piece plays its own vital part.”  \\n\\nBase case, a beacon, a guiding bright star,  \\nIt tells us, “Stop here, you’ve ventured too far.”  \\nWithout this foundation, we’d spiral away,  \\nIn an infinite loop, where we’d lose our way.  \\n\\nSo we call on our self, with a new little chore,  \\nEach step like a petal, unveiling the lore.  \\nWith each function’s whisper, the problem unwinds,  \\nFinding solutions, where logic entwines.  \\n\\nTo calculate factorial, or traverse a tree,  \\nRecursion’s the key to make sense of the spree.  \\nWe dive into depths, oh what treasures await,  \\nIn structured reflection, we unravel our fate.  \\n\\nSo dance with recursion, let your logic take flight,  \\nIn the heart of your code, there’s a wondrous delight.  \\nWith elegance woven through each layered embrace,  \\nIn the world of programming, recursion finds grace.  \", role='assistant', function_call=None, tool_calls=None)\n"
     ]
    }
   ],
   "source": [
    "from openai import OpenAI\n",
    "client = OpenAI() # defaults to getting the key using os.environ.get(\"OPENAI_API_KEY\")\n",
    "\n",
    "completion = client.chat.completions.create(\n",
    "  model=\"gpt-4o-mini\",\n",
    "  messages=[\n",
    "    {\"role\": \"system\", \"content\": \"You are a poetic assistant, skilled in explaining complex programming concepts with creative flair.\"},\n",
    "    {\"role\": \"user\", \"content\": \"Compose a poem that explains the concept of recursion in programming.\"}\n",
    "  ]\n",
    ")\n",
    "\n",
    "print(completion.choices[0].message)"
   ]
  },
  {
   "cell_type": "code",
   "execution_count": 10,
   "metadata": {},
   "outputs": [
    {
     "data": {
      "text/plain": [
       "''"
      ]
     },
     "execution_count": 10,
     "metadata": {},
     "output_type": "execute_result"
    }
   ],
   "source": [
    "## Every gameplay session starts a new chat session\n",
    "\n",
    "# Agent 1 base prompt:\n",
    "'''\n",
    "You are a storyteller telling a story about two lovers in the form of a back-and-forth dialogue where a character named Romeo is \n",
    "is trying to convince another character named Juliet to get back together. By the end of the dialogue, the characters should come to a decision \n",
    "that they [do / do not] get back together. Throughout the dialogue, LoverB wavers between getting back together and breaking up.\n",
    "\n",
    "Throughout this conversation, you will be prompted to forward the story either positively or negatively. With each prompt, forward the story as instructed in the form of \n",
    "two lines of dialogue between Romeo and Juliet. And then analyze the tone of the \"juliet_dialogue\" and provide \n",
    "a color hex code that represents the tone of the dialogue. Try to use a wide spectrum of colors and to not repeat colors.\n",
    "\n",
    "Your response should be formatted as a JSON body as follows:\n",
    "{\n",
    "    \"romeo_dialogue\": \"Please, just give me a chance. I’ve been thinking a lot, and I really want to explain myself.\",\n",
    "    \"juliet_dialogue\": \"Explain what, exactly? You hurt me, and it’s not something I can just forget.\",\n",
    "    \"color_hex_code\": \"#FF0000\"\n",
    "}\n",
    "'''\n",
    "\n",
    "# Flask API endpoints:\n",
    "# /positiveStory [POST]\n",
    "'''\n",
    "Prompt:\n",
    "\n",
    "'''\n",
    "\n",
    "\n",
    "\n",
    "# Response: {romeo_dialogue, juliet_dialogue, color_hex_code}\n",
    "\n",
    "\n",
    "# /negativeStory [POST]\n",
    "'''\n",
    "Prompt:\n",
    "\n",
    "'''\n",
    "# Response: {romeo_dialogue, juliet_dialogue, color_hex_code}\n",
    "\n",
    "\n",
    "# /endStory [POST]\n",
    "\n",
    "\n",
    "\n"
   ]
  },
  {
   "cell_type": "code",
   "execution_count": null,
   "metadata": {},
   "outputs": [],
   "source": []
  }
 ],
 "metadata": {
  "kernelspec": {
   "display_name": "base",
   "language": "python",
   "name": "python3"
  },
  "language_info": {
   "codemirror_mode": {
    "name": "ipython",
    "version": 3
   },
   "file_extension": ".py",
   "mimetype": "text/x-python",
   "name": "python",
   "nbconvert_exporter": "python",
   "pygments_lexer": "ipython3",
   "version": "3.9.13"
  }
 },
 "nbformat": 4,
 "nbformat_minor": 2
}
